{
 "cells": [
  {
   "cell_type": "code",
   "execution_count": 1,
   "metadata": {
    "collapsed": true
   },
   "outputs": [
    {
     "name": "stdout",
     "output_type": "stream",
     "text": [
      "Requirement already satisfied: numpy in d:\\desctop\\corp_course\\dt_corporate_course\\venv\\lib\\site-packages (1.21.4)\n",
      "Requirement already satisfied: pandas in d:\\desctop\\corp_course\\dt_corporate_course\\venv\\lib\\site-packages (1.3.4)\n",
      "Requirement already satisfied: pytz>=2017.3 in d:\\desctop\\corp_course\\dt_corporate_course\\venv\\lib\\site-packages (from pandas) (2021.3)\n",
      "Requirement already satisfied: numpy>=1.17.3 in d:\\desctop\\corp_course\\dt_corporate_course\\venv\\lib\\site-packages (from pandas) (1.21.4)\n",
      "Requirement already satisfied: python-dateutil>=2.7.3 in d:\\desctop\\corp_course\\dt_corporate_course\\venv\\lib\\site-packages (from pandas) (2.8.2)\n",
      "Requirement already satisfied: six>=1.5 in d:\\desctop\\corp_course\\dt_corporate_course\\venv\\lib\\site-packages (from python-dateutil>=2.7.3->pandas) (1.16.0)\n",
      "Requirement already satisfied: requests in d:\\desctop\\corp_course\\dt_corporate_course\\venv\\lib\\site-packages (2.26.0)\n",
      "Requirement already satisfied: urllib3<1.27,>=1.21.1 in d:\\desctop\\corp_course\\dt_corporate_course\\venv\\lib\\site-packages (from requests) (1.26.7)\n",
      "Requirement already satisfied: charset-normalizer~=2.0.0 in d:\\desctop\\corp_course\\dt_corporate_course\\venv\\lib\\site-packages (from requests) (2.0.9)\n",
      "Requirement already satisfied: certifi>=2017.4.17 in d:\\desctop\\corp_course\\dt_corporate_course\\venv\\lib\\site-packages (from requests) (2021.10.8)\n",
      "Requirement already satisfied: idna<4,>=2.5 in d:\\desctop\\corp_course\\dt_corporate_course\\venv\\lib\\site-packages (from requests) (3.3)\n"
     ]
    }
   ],
   "source": [
    "# install packages\n",
    "!pip install numpy\n",
    "!pip install pandas\n",
    "!pip install requests"
   ]
  },
  {
   "cell_type": "code",
   "execution_count": 2,
   "outputs": [],
   "source": [
    "# import packages\n",
    "import requests\n",
    "import numpy as np\n",
    "import pandas as pd"
   ],
   "metadata": {
    "collapsed": false,
    "pycharm": {
     "name": "#%%\n"
    }
   }
  },
  {
   "cell_type": "markdown",
   "source": [
    "# Classification text"
   ],
   "metadata": {
    "collapsed": false,
    "pycharm": {
     "name": "#%% md\n"
    }
   }
  },
  {
   "cell_type": "code",
   "source": [
    "# read data\n",
    "data = pd.read_csv(\"dataset_service.tsv\", sep='\\t')\n",
    "data[:3]"
   ],
   "metadata": {
    "collapsed": false,
    "pycharm": {
     "name": "#%%\n"
    }
   },
   "execution_count": 22,
   "outputs": [
    {
     "data": {
      "text/plain": "                                                 url  \\\n0  http://twitter.com/reneesa\\_devin/statuses/628...   \n1  http://twitter.com/MrElch/statuses/68737328126...   \n2  http://twitter.com/wolfi\\_wiese/statuses/64924...   \n\n                                         description  flag    status  \\\n0  @DB_Bahn ja, weil in Wuppertal Bauarbeiten sin...  True   neutral   \n1  @nordschaf theoretisch kannste dir überall im ...  True  positive   \n2  Bahn verspätet sich..gleich kommt noch jemand ...  True  negative   \n\n                                                 tag  \n0                            Allgemein#Haupt:neutral  \n1  Zugfahrt#Streckennetz:positive Zugfahrt#Fahrtz...  \n2                    Zugfahrt#Pünktlichkeit:negative  ",
      "text/html": "<div>\n<style scoped>\n    .dataframe tbody tr th:only-of-type {\n        vertical-align: middle;\n    }\n\n    .dataframe tbody tr th {\n        vertical-align: top;\n    }\n\n    .dataframe thead th {\n        text-align: right;\n    }\n</style>\n<table border=\"1\" class=\"dataframe\">\n  <thead>\n    <tr style=\"text-align: right;\">\n      <th></th>\n      <th>url</th>\n      <th>description</th>\n      <th>flag</th>\n      <th>status</th>\n      <th>tag</th>\n    </tr>\n  </thead>\n  <tbody>\n    <tr>\n      <th>0</th>\n      <td>http://twitter.com/reneesa\\_devin/statuses/628...</td>\n      <td>@DB_Bahn ja, weil in Wuppertal Bauarbeiten sin...</td>\n      <td>True</td>\n      <td>neutral</td>\n      <td>Allgemein#Haupt:neutral</td>\n    </tr>\n    <tr>\n      <th>1</th>\n      <td>http://twitter.com/MrElch/statuses/68737328126...</td>\n      <td>@nordschaf theoretisch kannste dir überall im ...</td>\n      <td>True</td>\n      <td>positive</td>\n      <td>Zugfahrt#Streckennetz:positive Zugfahrt#Fahrtz...</td>\n    </tr>\n    <tr>\n      <th>2</th>\n      <td>http://twitter.com/wolfi\\_wiese/statuses/64924...</td>\n      <td>Bahn verspätet sich..gleich kommt noch jemand ...</td>\n      <td>True</td>\n      <td>negative</td>\n      <td>Zugfahrt#Pünktlichkeit:negative</td>\n    </tr>\n  </tbody>\n</table>\n</div>"
     },
     "execution_count": 22,
     "metadata": {},
     "output_type": "execute_result"
    }
   ]
  },
  {
   "cell_type": "code",
   "execution_count": 101,
   "outputs": [],
   "source": [
    "def get_data_json(raw_data):\n",
    "    data_json = []\n",
    "    for i in range(1, raw_data.shape[0]):\n",
    "        data_json.append(raw_data['description'][i])\n",
    "        # data_json.append({\n",
    "        #     # \"url\": raw_data['url'][i],\n",
    "        #     \"description\": raw_data['description'][i],\n",
    "        #     # \"flag\": int(raw_data['flag'][i]),\n",
    "        #     # \"status\": raw_data['status'][i],\n",
    "        #     # \"tag\": raw_data['tag'][i],\n",
    "        # })\n",
    "    return data_json"
   ],
   "metadata": {
    "collapsed": false,
    "pycharm": {
     "name": "#%%\n"
    }
   }
  },
  {
   "cell_type": "code",
   "execution_count": 123,
   "outputs": [
    {
     "data": {
      "text/plain": "{'url': 'http://twitter.com/MrElch/statuses/687373281264046080',\n 'description': '@nordschaf theoretisch kannste dir überall im Kölner Stadtbereich was suchen. Mit der KVB + S-Bahn kommt man überall fix hin.',\n 'flag': 1,\n 'status': 'positive',\n 'tag': 'Zugfahrt#Streckennetz:positive Zugfahrt#Fahrtzeit_und_Schnelligkeit:positive'}"
     },
     "execution_count": 123,
     "metadata": {},
     "output_type": "execute_result"
    }
   ],
   "source": [
    "get_data_json(data)[0]"
   ],
   "metadata": {
    "collapsed": false,
    "pycharm": {
     "name": "#%%\n"
    }
   }
  },
  {
   "cell_type": "markdown",
   "source": [
    "## Check micro-service"
   ],
   "metadata": {
    "collapsed": false
   }
  },
  {
   "cell_type": "code",
   "execution_count": 124,
   "outputs": [
    {
     "data": {
      "text/plain": "{'data_p': []}"
     },
     "execution_count": 124,
     "metadata": {},
     "output_type": "execute_result"
    }
   ],
   "source": [
    "import json\n",
    "\n",
    "url = 'http://127.0.0.1:8000/api/label/'\n",
    "data_json = {'data': get_data_json(data)[0:2] }\n",
    "\n",
    "for i in range(1, data.shape[0]):\n",
    "    data_json = {'data': data['description'][i] }\n",
    "    response = requests.post(url, json=data_json, headers = {'content-type':'application/json'})\n",
    "    response.json()"
   ],
   "metadata": {
    "collapsed": false,
    "pycharm": {
     "name": "#%%\n"
    }
   }
  },
  {
   "cell_type": "code",
   "execution_count": null,
   "outputs": [],
   "source": [],
   "metadata": {
    "collapsed": false,
    "pycharm": {
     "name": "#%%\n"
    }
   }
  }
 ],
 "metadata": {
  "kernelspec": {
   "display_name": "Python 3",
   "language": "python",
   "name": "python3"
  },
  "language_info": {
   "codemirror_mode": {
    "name": "ipython",
    "version": 2
   },
   "file_extension": ".py",
   "mimetype": "text/x-python",
   "name": "python",
   "nbconvert_exporter": "python",
   "pygments_lexer": "ipython2",
   "version": "2.7.6"
  }
 },
 "nbformat": 4,
 "nbformat_minor": 0
}