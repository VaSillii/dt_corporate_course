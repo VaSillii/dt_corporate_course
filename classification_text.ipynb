{
 "cells": [
  {
   "cell_type": "code",
   "execution_count": 6,
   "metadata": {
    "collapsed": true
   },
   "outputs": [
    {
     "name": "stdout",
     "output_type": "stream",
     "text": [
      "Requirement already satisfied: numpy in d:\\desctop\\corp_course\\dt_corporate_course\\venv\\lib\\site-packages (1.21.4)\n",
      "Requirement already satisfied: pandas in d:\\desctop\\corp_course\\dt_corporate_course\\venv\\lib\\site-packages (1.3.4)\n",
      "Requirement already satisfied: numpy>=1.17.3 in d:\\desctop\\corp_course\\dt_corporate_course\\venv\\lib\\site-packages (from pandas) (1.21.4)\n",
      "Requirement already satisfied: pytz>=2017.3 in d:\\desctop\\corp_course\\dt_corporate_course\\venv\\lib\\site-packages (from pandas) (2021.3)\n",
      "Requirement already satisfied: python-dateutil>=2.7.3 in d:\\desctop\\corp_course\\dt_corporate_course\\venv\\lib\\site-packages (from pandas) (2.8.2)\n",
      "Requirement already satisfied: six>=1.5 in d:\\desctop\\corp_course\\dt_corporate_course\\venv\\lib\\site-packages (from python-dateutil>=2.7.3->pandas) (1.16.0)\n",
      "Collecting requests\n",
      "  Downloading requests-2.26.0-py2.py3-none-any.whl (62 kB)\n",
      "Collecting certifi>=2017.4.17\n",
      "  Downloading certifi-2021.10.8-py2.py3-none-any.whl (149 kB)\n",
      "Collecting idna<4,>=2.5\n",
      "  Downloading idna-3.3-py3-none-any.whl (61 kB)\n",
      "Collecting charset-normalizer~=2.0.0\n",
      "  Downloading charset_normalizer-2.0.9-py3-none-any.whl (39 kB)\n",
      "Collecting urllib3<1.27,>=1.21.1\n",
      "  Downloading urllib3-1.26.7-py2.py3-none-any.whl (138 kB)\n",
      "Installing collected packages: urllib3, idna, charset-normalizer, certifi, requests\n",
      "Successfully installed certifi-2021.10.8 charset-normalizer-2.0.9 idna-3.3 requests-2.26.0 urllib3-1.26.7\n"
     ]
    }
   ],
   "source": [
    "# install packages\n",
    "!pip install numpy\n",
    "!pip install pandas\n",
    "!pip install requests"
   ]
  },
  {
   "cell_type": "code",
   "execution_count": 10,
   "outputs": [],
   "source": [
    "# import packages\n",
    "import requests\n",
    "import numpy as np\n",
    "import pandas as pd"
   ],
   "metadata": {
    "collapsed": false,
    "pycharm": {
     "name": "#%%\n"
    }
   }
  },
  {
   "cell_type": "markdown",
   "source": [
    "## Classification text"
   ],
   "metadata": {
    "collapsed": false,
    "pycharm": {
     "name": "#%% md\n"
    }
   }
  },
  {
   "cell_type": "code",
   "source": [
    "# read data\n",
    "data = pd.read_csv(\"dataset_service.tsv\", sep='\\t')\n",
    "data[:3]"
   ],
   "metadata": {
    "collapsed": false,
    "pycharm": {
     "name": "#%%\n"
    }
   },
   "execution_count": 8,
   "outputs": [
    {
     "data": {
      "text/plain": "  http://twitter.com/reneesa\\_devin/statuses/628811699857018880  \\\n0  http://twitter.com/MrElch/statuses/68737328126...              \n1  http://twitter.com/wolfi\\_wiese/statuses/64924...              \n2  http://wirtschaftsnachrichten-online.de/2015/1...              \n\n  @DB_Bahn ja, weil in Wuppertal Bauarbeiten sind, soweit bin ich auch, aber wieso nur am Wochenende und grade jetzt?  \\\n0  @nordschaf theoretisch kannste dir überall im ...                                                                    \n1  Bahn verspätet sich..gleich kommt noch jemand ...                                                                    \n2  Ihre Anfragen brachten uns zu neuen Leistungen...                                                                    \n\n    true   neutral                            Allgemein#Haupt:neutral  \n0   True  positive  Zugfahrt#Streckennetz:positive Zugfahrt#Fahrtz...  \n1   True  negative                    Zugfahrt#Pünktlichkeit:negative  \n2  False   neutral                                                NaN  ",
      "text/html": "<div>\n<style scoped>\n    .dataframe tbody tr th:only-of-type {\n        vertical-align: middle;\n    }\n\n    .dataframe tbody tr th {\n        vertical-align: top;\n    }\n\n    .dataframe thead th {\n        text-align: right;\n    }\n</style>\n<table border=\"1\" class=\"dataframe\">\n  <thead>\n    <tr style=\"text-align: right;\">\n      <th></th>\n      <th>http://twitter.com/reneesa\\_devin/statuses/628811699857018880</th>\n      <th>@DB_Bahn ja, weil in Wuppertal Bauarbeiten sind, soweit bin ich auch, aber wieso nur am Wochenende und grade jetzt?</th>\n      <th>true</th>\n      <th>neutral</th>\n      <th>Allgemein#Haupt:neutral</th>\n    </tr>\n  </thead>\n  <tbody>\n    <tr>\n      <th>0</th>\n      <td>http://twitter.com/MrElch/statuses/68737328126...</td>\n      <td>@nordschaf theoretisch kannste dir überall im ...</td>\n      <td>True</td>\n      <td>positive</td>\n      <td>Zugfahrt#Streckennetz:positive Zugfahrt#Fahrtz...</td>\n    </tr>\n    <tr>\n      <th>1</th>\n      <td>http://twitter.com/wolfi\\_wiese/statuses/64924...</td>\n      <td>Bahn verspätet sich..gleich kommt noch jemand ...</td>\n      <td>True</td>\n      <td>negative</td>\n      <td>Zugfahrt#Pünktlichkeit:negative</td>\n    </tr>\n    <tr>\n      <th>2</th>\n      <td>http://wirtschaftsnachrichten-online.de/2015/1...</td>\n      <td>Ihre Anfragen brachten uns zu neuen Leistungen...</td>\n      <td>False</td>\n      <td>neutral</td>\n      <td>NaN</td>\n    </tr>\n  </tbody>\n</table>\n</div>"
     },
     "execution_count": 8,
     "metadata": {},
     "output_type": "execute_result"
    }
   ]
  },
  {
   "cell_type": "code",
   "execution_count": 4,
   "outputs": [],
   "source": [],
   "metadata": {
    "collapsed": false,
    "pycharm": {
     "name": "#%%\n"
    }
   }
  },
  {
   "cell_type": "markdown",
   "source": [
    "## Check micro-service"
   ],
   "metadata": {
    "collapsed": false
   }
  },
  {
   "cell_type": "code",
   "execution_count": 12,
   "outputs": [
    {
     "data": {
      "text/plain": "{'data_p': []}"
     },
     "execution_count": 12,
     "metadata": {},
     "output_type": "execute_result"
    }
   ],
   "source": [
    "url = 'http://127.0.0.1:8000/api/label/'\n",
    "data = {}\n",
    "r = requests.post(url, data)\n",
    "\n",
    "r.json()"
   ],
   "metadata": {
    "collapsed": false,
    "pycharm": {
     "name": "#%%\n"
    }
   }
  },
  {
   "cell_type": "code",
   "execution_count": null,
   "outputs": [],
   "source": [],
   "metadata": {
    "collapsed": false,
    "pycharm": {
     "name": "#%%\n"
    }
   }
  }
 ],
 "metadata": {
  "kernelspec": {
   "display_name": "Python 3",
   "language": "python",
   "name": "python3"
  },
  "language_info": {
   "codemirror_mode": {
    "name": "ipython",
    "version": 2
   },
   "file_extension": ".py",
   "mimetype": "text/x-python",
   "name": "python",
   "nbconvert_exporter": "python",
   "pygments_lexer": "ipython2",
   "version": "2.7.6"
  }
 },
 "nbformat": 4,
 "nbformat_minor": 0
}